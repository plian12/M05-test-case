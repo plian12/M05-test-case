{
 "cells": [
  {
   "cell_type": "markdown",
   "metadata": {},
   "source": [
    "-Two test were executed. One '.' is diplayed which represents a passing test while the other has 'F' a failed result.\n",
    "\n",
    "-The successful test confirming the sum function correctly summs a list of instegers.\n",
    "-The fail test is named 'test_list_fraction'. The test belongs to the 'TestSum' test case, which is a part of the 'test' module. The failure occurred because assertion in the test did not hold true. The expected result is '1', but the result shows 'Fraction(9, 10)'. \n",
    "The error messange displays Fraction(9, 10) is not equal 1."
   ]
  }
 ],
 "metadata": {
  "language_info": {
   "name": "python"
  }
 },
 "nbformat": 4,
 "nbformat_minor": 2
}
